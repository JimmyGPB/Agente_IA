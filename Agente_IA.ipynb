{
  "nbformat": 4,
  "nbformat_minor": 0,
  "metadata": {
    "colab": {
      "provenance": []
    },
    "kernelspec": {
      "name": "python3",
      "display_name": "Python 3"
    },
    "language_info": {
      "name": "python"
    }
  },
  "cells": [
    {
      "cell_type": "markdown",
      "source": [
        "# Creación de un Agente IA con RAG para realizar recomendaciones si es buena idea viajar hacia algun lugar en la fecha mencionada.\n",
        "\n",
        "### Paredes Jimmy\n",
        "\n",
        "En esta Google Notebook, se encuentra la creacion de un Agente IA turisrtico, el cual dependiendo de la fecha y lugar que se proporcione nos mencionará si es recomendable viajar hacia el lugar."
      ],
      "metadata": {
        "id": "GgylYWgIa7_j"
      }
    },
    {
      "cell_type": "markdown",
      "source": [
        "## Instalar e importar la librerias necesarias"
      ],
      "metadata": {
        "id": "lzGkWm0Mo1Ny"
      }
    },
    {
      "cell_type": "markdown",
      "source": [
        "### Instalando librerias utilizadas"
      ],
      "metadata": {
        "id": "FchPOYJuQiRB"
      }
    },
    {
      "cell_type": "code",
      "source": [
        "!pip install groq"
      ],
      "metadata": {
        "colab": {
          "base_uri": "https://localhost:8080/"
        },
        "id": "c6tlxpx_28fe",
        "outputId": "56de582c-b4a6-4723-dc6b-1bfb691799a0"
      },
      "execution_count": 60,
      "outputs": [
        {
          "output_type": "stream",
          "name": "stdout",
          "text": [
            "Requirement already satisfied: groq in /usr/local/lib/python3.11/dist-packages (0.23.1)\n",
            "Requirement already satisfied: anyio<5,>=3.5.0 in /usr/local/lib/python3.11/dist-packages (from groq) (4.9.0)\n",
            "Requirement already satisfied: distro<2,>=1.7.0 in /usr/local/lib/python3.11/dist-packages (from groq) (1.9.0)\n",
            "Requirement already satisfied: httpx<1,>=0.23.0 in /usr/local/lib/python3.11/dist-packages (from groq) (0.28.1)\n",
            "Requirement already satisfied: pydantic<3,>=1.9.0 in /usr/local/lib/python3.11/dist-packages (from groq) (2.11.3)\n",
            "Requirement already satisfied: sniffio in /usr/local/lib/python3.11/dist-packages (from groq) (1.3.1)\n",
            "Requirement already satisfied: typing-extensions<5,>=4.10 in /usr/local/lib/python3.11/dist-packages (from groq) (4.13.2)\n",
            "Requirement already satisfied: idna>=2.8 in /usr/local/lib/python3.11/dist-packages (from anyio<5,>=3.5.0->groq) (3.10)\n",
            "Requirement already satisfied: certifi in /usr/local/lib/python3.11/dist-packages (from httpx<1,>=0.23.0->groq) (2025.1.31)\n",
            "Requirement already satisfied: httpcore==1.* in /usr/local/lib/python3.11/dist-packages (from httpx<1,>=0.23.0->groq) (1.0.8)\n",
            "Requirement already satisfied: h11<0.15,>=0.13 in /usr/local/lib/python3.11/dist-packages (from httpcore==1.*->httpx<1,>=0.23.0->groq) (0.14.0)\n",
            "Requirement already satisfied: annotated-types>=0.6.0 in /usr/local/lib/python3.11/dist-packages (from pydantic<3,>=1.9.0->groq) (0.7.0)\n",
            "Requirement already satisfied: pydantic-core==2.33.1 in /usr/local/lib/python3.11/dist-packages (from pydantic<3,>=1.9.0->groq) (2.33.1)\n",
            "Requirement already satisfied: typing-inspection>=0.4.0 in /usr/local/lib/python3.11/dist-packages (from pydantic<3,>=1.9.0->groq) (0.4.0)\n"
          ]
        }
      ]
    },
    {
      "cell_type": "code",
      "source": [
        "!pip install duckduckgo-search --upgrade\n",
        "!pip install trafilatura"
      ],
      "metadata": {
        "colab": {
          "base_uri": "https://localhost:8080/"
        },
        "id": "5NvHgoRtOncR",
        "outputId": "1cce9c2d-648e-4f73-bcc7-ce2e7bbe2492"
      },
      "execution_count": 61,
      "outputs": [
        {
          "output_type": "stream",
          "name": "stdout",
          "text": [
            "Requirement already satisfied: duckduckgo-search in /usr/local/lib/python3.11/dist-packages (8.0.1)\n",
            "Requirement already satisfied: click>=8.1.8 in /usr/local/lib/python3.11/dist-packages (from duckduckgo-search) (8.1.8)\n",
            "Requirement already satisfied: primp>=0.15.0 in /usr/local/lib/python3.11/dist-packages (from duckduckgo-search) (0.15.0)\n",
            "Requirement already satisfied: lxml>=5.3.0 in /usr/local/lib/python3.11/dist-packages (from duckduckgo-search) (5.3.2)\n",
            "Requirement already satisfied: trafilatura in /usr/local/lib/python3.11/dist-packages (2.0.0)\n",
            "Requirement already satisfied: certifi in /usr/local/lib/python3.11/dist-packages (from trafilatura) (2025.1.31)\n",
            "Requirement already satisfied: charset_normalizer>=3.4.0 in /usr/local/lib/python3.11/dist-packages (from trafilatura) (3.4.1)\n",
            "Requirement already satisfied: courlan>=1.3.2 in /usr/local/lib/python3.11/dist-packages (from trafilatura) (1.3.2)\n",
            "Requirement already satisfied: htmldate>=1.9.2 in /usr/local/lib/python3.11/dist-packages (from trafilatura) (1.9.3)\n",
            "Requirement already satisfied: justext>=3.0.1 in /usr/local/lib/python3.11/dist-packages (from trafilatura) (3.0.2)\n",
            "Requirement already satisfied: lxml>=5.3.0 in /usr/local/lib/python3.11/dist-packages (from trafilatura) (5.3.2)\n",
            "Requirement already satisfied: urllib3<3,>=1.26 in /usr/local/lib/python3.11/dist-packages (from trafilatura) (2.3.0)\n",
            "Requirement already satisfied: babel>=2.16.0 in /usr/local/lib/python3.11/dist-packages (from courlan>=1.3.2->trafilatura) (2.17.0)\n",
            "Requirement already satisfied: tld>=0.13 in /usr/local/lib/python3.11/dist-packages (from courlan>=1.3.2->trafilatura) (0.13)\n",
            "Requirement already satisfied: dateparser>=1.1.2 in /usr/local/lib/python3.11/dist-packages (from htmldate>=1.9.2->trafilatura) (1.2.1)\n",
            "Requirement already satisfied: python-dateutil>=2.9.0.post0 in /usr/local/lib/python3.11/dist-packages (from htmldate>=1.9.2->trafilatura) (2.9.0.post0)\n",
            "Requirement already satisfied: pytz>=2024.2 in /usr/local/lib/python3.11/dist-packages (from dateparser>=1.1.2->htmldate>=1.9.2->trafilatura) (2025.2)\n",
            "Requirement already satisfied: regex!=2019.02.19,!=2021.8.27,>=2015.06.24 in /usr/local/lib/python3.11/dist-packages (from dateparser>=1.1.2->htmldate>=1.9.2->trafilatura) (2024.11.6)\n",
            "Requirement already satisfied: tzlocal>=0.2 in /usr/local/lib/python3.11/dist-packages (from dateparser>=1.1.2->htmldate>=1.9.2->trafilatura) (5.3.1)\n",
            "Requirement already satisfied: lxml_html_clean in /usr/local/lib/python3.11/dist-packages (from lxml[html_clean]>=4.4.2->justext>=3.0.1->trafilatura) (0.4.2)\n",
            "Requirement already satisfied: six>=1.5 in /usr/local/lib/python3.11/dist-packages (from python-dateutil>=2.9.0.post0->htmldate>=1.9.2->trafilatura) (1.17.0)\n"
          ]
        }
      ]
    },
    {
      "cell_type": "code",
      "source": [
        "!pip install gradio --quiet"
      ],
      "metadata": {
        "id": "-bJcxgxbynPY"
      },
      "execution_count": 62,
      "outputs": []
    },
    {
      "cell_type": "code",
      "source": [
        "!pip install python-dotenv"
      ],
      "metadata": {
        "colab": {
          "base_uri": "https://localhost:8080/"
        },
        "id": "aL2MzHFQY4G7",
        "outputId": "911457c7-72e6-480d-e153-c86c3d7fe8fd"
      },
      "execution_count": 63,
      "outputs": [
        {
          "output_type": "stream",
          "name": "stdout",
          "text": [
            "Requirement already satisfied: python-dotenv in /usr/local/lib/python3.11/dist-packages (1.1.0)\n"
          ]
        }
      ]
    },
    {
      "cell_type": "markdown",
      "source": [
        "### Importanto librerias a utilizar"
      ],
      "metadata": {
        "id": "ZEyGGbEcQn93"
      }
    },
    {
      "cell_type": "code",
      "source": [
        "import os\n",
        "from dotenv import load_dotenv"
      ],
      "metadata": {
        "id": "lhNLThmBY2Jq"
      },
      "execution_count": 64,
      "outputs": []
    },
    {
      "cell_type": "code",
      "source": [
        "from groq import Groq\n",
        "\n",
        "from sentence_transformers import SentenceTransformer\n",
        "model = SentenceTransformer(\"all-MiniLM-L6-v2\")\n",
        "\n",
        "from sklearn.metrics.pairwise import cosine_similarity\n",
        "import numpy as np\n",
        "\n",
        "import requests\n",
        "from datetime import datetime\n",
        "import trafilatura\n",
        "from duckduckgo_search import DDGS\n",
        "\n",
        "import gradio as gr"
      ],
      "metadata": {
        "id": "dWZgrPAGMpJN"
      },
      "execution_count": 65,
      "outputs": []
    },
    {
      "cell_type": "markdown",
      "source": [
        "## Funciones para la construccion del agente IA\n",
        "\n"
      ],
      "metadata": {
        "id": "ngLd6oQE19JS"
      }
    },
    {
      "cell_type": "code",
      "execution_count": 66,
      "metadata": {
        "id": "qTzubsCa26NE"
      },
      "outputs": [],
      "source": [
        "def obtener_lugar_fecha(contenido, api_key_groq):\n",
        "    \"\"\" Esta función, obtiene el lugar y la fecha de un texto dado usando un LLM.\n",
        "    Args:\n",
        "      contenido: str\n",
        "        La pregunta realizada por el usuario\n",
        "      api_key_groq: str\n",
        "        La API key de Groq\n",
        "    Returns:\n",
        "      lugar_usuario: str\n",
        "        El lugar que el usuario desea visitar\n",
        "      fecha_usuario: str\n",
        "        La fecha en la cual el usuario desea visitar el lugar mencionado\n",
        "    \"\"\"\n",
        "\n",
        "    anio_actual = datetime.now().year\n",
        "    contenido += f\"\"\"Del texto dado, retornar unicamente el nombre del tema principal del cual se desea tener informacion\n",
        "    y la fecha en Formato: YYYY-MM-DD, de la forma: tema_principal, fechas. Si el año no esta presente agrear el año {anio_actual}\"\"\"\n",
        "    client = Groq(api_key=api_key_groq)\n",
        "    completion = client.chat.completions.create(\n",
        "      #model=\"compound-beta\",\n",
        "      model = \"llama-3.3-70b-versatile\",\n",
        "        messages=[\n",
        "            {\n",
        "                \"role\": \"user\",\n",
        "                'content': contenido\n",
        "            }\n",
        "        ]\n",
        "    )\n",
        "    lugar_usuario, fecha_usuario = completion.choices[0].message.content.split(\", \")\n",
        "    return lugar_usuario, fecha_usuario\n"
      ]
    },
    {
      "cell_type": "code",
      "source": [
        "def obtener_info_web(tema):\n",
        "    \"\"\" Esta función, realiza una busqueda en la web sobre un tema dado y lo retorna.\n",
        "    args:\n",
        "        tema: str\n",
        "            Tema a buscar en la web\n",
        "    returns:\n",
        "        results_str: str\n",
        "            Texto completo de cada página encontrada\n",
        "    \"\"\"\n",
        "\n",
        "    # Realizacion de la búsqueda\n",
        "    results = []\n",
        "    results_str = str()\n",
        "    with DDGS() as ddgs:\n",
        "        results = list(ddgs.text(tema, max_results=5))\n",
        "\n",
        "    # Extraccion del texto completo de cada página\n",
        "    for result in results:\n",
        "        url = result[\"href\"]\n",
        "        try:\n",
        "            downloaded = trafilatura.fetch_url(url)\n",
        "            if downloaded:\n",
        "                text = trafilatura.extract(downloaded)\n",
        "\n",
        "                results_str += text + \"\\n\"\n",
        "        except Exception as e:\n",
        "            continue\n",
        "    return results_str\n",
        ""
      ],
      "metadata": {
        "id": "PKbMV82YOlAR"
      },
      "execution_count": 67,
      "outputs": []
    },
    {
      "cell_type": "code",
      "source": [
        "def split_text(text, max_length=300):\n",
        "    \"\"\" Esta funcion divide un texto en partes de un tamaño maximo dado.\n",
        "    args:\n",
        "        text: str\n",
        "            Texto a dividir\n",
        "        max_length: int\n",
        "            Longitud maxima de cada parte del texto\n",
        "    returns:\n",
        "        chunks: list\n",
        "            Lista de partes del texto\n",
        "    \"\"\"\n",
        "\n",
        "    sentences = text.split('. ')\n",
        "    chunks, current = [], ''\n",
        "    for sentence in sentences:\n",
        "        if len(current) + len(sentence) < max_length:\n",
        "            current += sentence + '. '\n",
        "        else:\n",
        "            chunks.append(current.strip())\n",
        "            current = sentence + '. '\n",
        "    chunks.append(current.strip())\n",
        "    return chunks\n",
        ""
      ],
      "metadata": {
        "id": "dtsXK1UIMkFZ"
      },
      "execution_count": 68,
      "outputs": []
    },
    {
      "cell_type": "code",
      "source": [
        "def obtener_coordenadas_con_fallback(lugar):\n",
        "    \"\"\" Esta funcion obtiene las coordenadas de latitud y longitud de un lugar dado usando la API de opencagedata.com\n",
        "    args:\n",
        "        lugar: str\n",
        "            Nombre del lugar a buscar\n",
        "    returns:\n",
        "        coords: tuple\n",
        "            Coordenadas de latitud y longitud del lugar\n",
        "    \"\"\"\n",
        "\n",
        "    palabras = lugar.split()  # Separar por palabras\n",
        "    intentos = []\n",
        "\n",
        "    # Crear combinaciones de palabras progresivamente más cortas\n",
        "    for i in range(len(palabras)):\n",
        "        intentos.append(\" \".join(palabras[i:len(palabras)]))  # Combinación progresiva más corta\n",
        "\n",
        "    # Intentar obtener coordenadas con cada variante del lugar\n",
        "    for intento in intentos:\n",
        "        url = f\"https://api.opencagedata.com/geocode/v1/json?q={intento}&key={API_OPENCAGE_KEY}&language=es\"\n",
        "        respuesta = requests.get(url).json()\n",
        "        if respuesta[\"results\"]:\n",
        "            coords = respuesta[\"results\"][0][\"geometry\"]\n",
        "            return coords[\"lat\"], coords[\"lng\"]\n",
        "\n",
        "    raise Exception(\"No se pudo obtener la ubicación.\")\n",
        "\n",
        "\n",
        "\n",
        "def obtener_clima(lat, lon):\n",
        "    \"\"\" Esta funcion obtiene la informacion de clima del lugar dado en sus coordenadas usando la API de Tomorrow.io.\n",
        "    args:\n",
        "        lat: float\n",
        "            Latitud del lugar\n",
        "        lon: float\n",
        "            Longitud del lugar\n",
        "    returns:\n",
        "        response: dict\n",
        "            Informacion de clima del lugar\n",
        "    \"\"\"\n",
        "\n",
        "    url = f\"https://api.tomorrow.io/v4/weather/forecast?location={lat},{lon}&apikey={API_TOMORROW_KEY}&units=metric\"\n",
        "    response = requests.get(url).json()\n",
        "    return response\n",
        "\n",
        "\n",
        "\n",
        "def buscar_por_fecha(data, fecha_str):\n",
        "    \"\"\" Esta funcion busca la informacion de clima del lugar dado en la fecha dada.\n",
        "    args:\n",
        "        data: dict\n",
        "            Informacion de clima del lugar\n",
        "        fecha_str: str\n",
        "            Fecha a buscar en formato YYYY-MM-DD\n",
        "    returns:\n",
        "        dia: dict\n",
        "            Informacion de clima del dia dado\n",
        "    \"\"\"\n",
        "\n",
        "    fecha_deseada = datetime.strptime(fecha_str, \"%Y-%m-%d\").date()\n",
        "    for dia in data[\"timelines\"][\"daily\"]:\n",
        "        fecha_actual = datetime.fromisoformat(dia[\"time\"]).date()\n",
        "        if fecha_actual == fecha_deseada:\n",
        "            return dia\n",
        "    return None\n"
      ],
      "metadata": {
        "id": "KHaIfLIFN3Kp"
      },
      "execution_count": 69,
      "outputs": []
    },
    {
      "cell_type": "code",
      "source": [
        "def obtener_respuesta(contenido_proc, api_key_groq):\n",
        "    \"\"\" Esta funcion obtiene la respuesta del LLM para una pregunta dada, y a partir de la informacion adicional proveida\n",
        "    args:\n",
        "        contenido_proc: str\n",
        "            String con informacion del lugar, informacion mas relevante obtenida de la web, clima y pregunta\n",
        "        api_key_groq: str\n",
        "            API key de Groq\n",
        "    returns:\n",
        "        respuesta: str\n",
        "            Respuesta del LLM\n",
        "    \"\"\"\n",
        "\n",
        "    client = Groq(api_key=api_key_groq)\n",
        "    completion = client.chat.completions.create(\n",
        "      #model=\"compound-beta\",\n",
        "      model = \"llama-3.3-70b-versatile\",\n",
        "        messages=[\n",
        "            {\n",
        "                \"role\": \"user\",\n",
        "                'content': contenido_proc\n",
        "            }\n",
        "        ]\n",
        "    )\n",
        "\n",
        "    return completion.choices[0].message.content\n"
      ],
      "metadata": {
        "id": "FQezY_WNIQ8R"
      },
      "execution_count": 70,
      "outputs": []
    },
    {
      "cell_type": "code",
      "source": [
        "def obtener_recomendacion(pregunta, state):\n",
        "    \"\"\" Esta funcion obtiene la recomendacion del agente turistico para una pregunta dada.\n",
        "    args:\n",
        "        pregunta: str\n",
        "            Pregunta dada por el usuario\n",
        "        state: dict\n",
        "            Estado del agente\n",
        "    returns:\n",
        "        respuesta: str\n",
        "            Respuesta del agente\n",
        "    \"\"\"\n",
        "\n",
        "    # Crear estado si no existe\n",
        "    if state is None:\n",
        "        state = {}\n",
        "\n",
        "    if \"lugar_usuario\" not in state or \"fecha_usuario\" not in state:\n",
        "        lugar_usuario, fecha_usuario = obtener_lugar_fecha(pregunta, API_KEY)\n",
        "        state[\"lugar_usuario\"] = lugar_usuario\n",
        "        state[\"fecha_usuario\"] = fecha_usuario\n",
        "    else:\n",
        "        lugar_usuario = state[\"lugar_usuario\"]\n",
        "        fecha_usuario = state[\"fecha_usuario\"]\n",
        "\n",
        "    lugar_pregunta = lugar_usuario + pregunta\n",
        "\n",
        "    info_web = obtener_info_web(lugar_pregunta)\n",
        "    chunks = split_text(info_web, max_length=100)\n",
        "\n",
        "    # Se crean los embedings usando los chunks resultantes de la informacion obtenida de la web\n",
        "    embeddings = model.encode(chunks)\n",
        "\n",
        "    # Se hace los embedings a la pregunta dada por el usuario\n",
        "    pregunta_embedding = model.encode(pregunta)\n",
        "\n",
        "    # Se obtienen los scores de los embedings de la informacion de la web\n",
        "    scores = cosine_similarity([pregunta_embedding], embeddings)[0]\n",
        "\n",
        "    # Se guardan los embedings que mas similitud tengan con la pregunta realizada por el usuario\n",
        "    top_indices = np.argsort(scores)[::-1][:5]\n",
        "    top_chunks = [chunks[i] for i in top_indices]\n",
        "    state[\"top_chunks\"] = top_chunks\n",
        "\n",
        "    try:\n",
        "        lat, lon = obtener_coordenadas_con_fallback(lugar_usuario)\n",
        "        datos = obtener_clima(lat, lon)\n",
        "        info_clima = buscar_por_fecha(datos, fecha_usuario)\n",
        "\n",
        "        # Se realiza un cambio desde el diccionario obtenido del clima hacia string para agregarlo como informacion\n",
        "        info_clima_texto = \"\\n\\n\".join([f\"{clave}: {valor}\" for clave, valor in info_clima.items()]) if info_clima else \"No hay datos de clima disponibles.\"\n",
        "    except Exception as e:\n",
        "        info_clima_texto = f\"Error al obtener el clima: {e}\"\n",
        "\n",
        "    # Se junta la informacion acerca del lugr, los chunks con mas similitud a la pregunta dada por el usuario, el clima\n",
        "    # que presentara el lugar en la fecha dada y la pregunta realizada por el usuario\n",
        "    contenido_proc = (\n",
        "        \"Información útil del lugar:\\n\"\n",
        "        + \"\\n\\n\".join(top_chunks)\n",
        "        + \"\\n\\n\" + info_clima_texto\n",
        "        + f\"\\n\\nPregunta del usuario: {pregunta}\"\n",
        "    )\n",
        "\n",
        "    respuesta = obtener_respuesta(contenido_proc, API_KEY)\n",
        "    return respuesta, state\n"
      ],
      "metadata": {
        "id": "9gA82GgjGpcd"
      },
      "execution_count": 71,
      "outputs": []
    },
    {
      "cell_type": "markdown",
      "source": [
        "## Carga de las API key desde el archivo .env"
      ],
      "metadata": {
        "id": "dl-Whii_dd3A"
      }
    },
    {
      "cell_type": "code",
      "source": [
        "# Cargar las variables desde .env\n",
        "load_dotenv()\n",
        "\n",
        "# Acceder a las API keys\n",
        "API_KEY = os.getenv(\"API_KEY\") # API key de la aplicacion web groq para el uso de LLMs\n",
        "API_TOMORROW_KEY = os.getenv(\"API_TOMORROW_KEY\") # API de la aplicacion web tomorrow.io para obtener informacion del clima\n",
        "API_OPENCAGE_KEY = os.getenv(\"API_OPENCAGE_KEY\") # API de la aplicacion web opencagedata.com para obtener coordenadas de un lugar dado"
      ],
      "metadata": {
        "id": "lLeu449BYs3I"
      },
      "execution_count": 72,
      "outputs": []
    },
    {
      "cell_type": "markdown",
      "source": [
        "# Interfaz de usuario usando Gradio\n",
        "\n",
        "Aqui se crea una interfaz de usuario usando gradio para una mejor interacción con el agente creado"
      ],
      "metadata": {
        "id": "mlzT-Yoh9Jq3"
      }
    },
    {
      "cell_type": "code",
      "source": [
        "with gr.Blocks() as demo:\n",
        "    estado = gr.State()\n",
        "\n",
        "    gr.Markdown(\"## Agente Turístico\")\n",
        "    gr.Markdown(\"Haz una pregunta como: '¿Es recomendable viajar a la laguna de Yambo el dia 29 de abril?'\")\n",
        "\n",
        "    input_box = gr.Textbox(label=\"Tu pregunta\")\n",
        "    output_box = gr.Textbox(label=\"Respuesta\")\n",
        "\n",
        "    enviar_btn = gr.Button(\"Enviar\")\n",
        "\n",
        "    enviar_btn.click(\n",
        "        obtener_recomendacion,\n",
        "        inputs=[input_box, estado],\n",
        "        outputs=[output_box, estado]\n",
        "    )\n",
        "\n",
        "demo.launch(share=True)\n",
        "#demo.launch(share=True, debug=True)\n"
      ],
      "metadata": {
        "colab": {
          "base_uri": "https://localhost:8080/",
          "height": 611
        },
        "id": "EHSlrSscGsT-",
        "outputId": "914062f7-5c9b-42de-aad9-54a1c5c5c76e"
      },
      "execution_count": 74,
      "outputs": [
        {
          "output_type": "stream",
          "name": "stdout",
          "text": [
            "Colab notebook detected. To show errors in colab notebook, set debug=True in launch()\n",
            "* Running on public URL: https://c339bcfdda9aaba44d.gradio.live\n",
            "\n",
            "This share link expires in 1 week. For free permanent hosting and GPU upgrades, run `gradio deploy` from the terminal in the working directory to deploy to Hugging Face Spaces (https://huggingface.co/spaces)\n"
          ]
        },
        {
          "output_type": "display_data",
          "data": {
            "text/plain": [
              "<IPython.core.display.HTML object>"
            ],
            "text/html": [
              "<div><iframe src=\"https://c339bcfdda9aaba44d.gradio.live\" width=\"100%\" height=\"500\" allow=\"autoplay; camera; microphone; clipboard-read; clipboard-write;\" frameborder=\"0\" allowfullscreen></iframe></div>"
            ]
          },
          "metadata": {}
        },
        {
          "output_type": "execute_result",
          "data": {
            "text/plain": []
          },
          "metadata": {},
          "execution_count": 74
        }
      ]
    }
  ]
}